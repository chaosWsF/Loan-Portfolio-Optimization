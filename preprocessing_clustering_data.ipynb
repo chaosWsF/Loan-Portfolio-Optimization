{
 "cells": [
  {
   "cell_type": "markdown",
   "metadata": {},
   "source": [
    "# Preprocessing Data for Clustering"
   ]
  },
  {
   "cell_type": "code",
   "execution_count": 2,
   "metadata": {},
   "outputs": [],
   "source": [
    "import pandas as pd\n",
    "import numpy as np\n",
    "import dask.dataframe as dd\n",
    "\n",
    "from pathlib import Path\n",
    "from tqdm import tqdm\n",
    "from joblib import Parallel, delayed\n",
    "\n",
    "from sklearn.preprocessing import StandardScaler, RobustScaler, PowerTransformer\n",
    "from sklearn.compose import ColumnTransformer\n",
    "from sklearn.pipeline import Pipeline\n",
    "from sklearn.impute import SimpleImputer\n",
    "\n",
    "pd.set_option('display.max_columns', None)  \n",
    "pd.set_option('display.expand_frame_repr', False)\n",
    "pd.set_option('max_colwidth', None)"
   ]
  },
  {
   "cell_type": "markdown",
   "metadata": {},
   "source": [
    "## Loading"
   ]
  },
  {
   "cell_type": "code",
   "execution_count": null,
   "metadata": {},
   "outputs": [],
   "source": [
    "data_root = Path('/home/c44406/datasets/atb_uofa/loan_portfolio/')\n",
    "data_path = data_root / 'datasetv7*.csv'\n",
    "\n",
    "dtype = {\n",
    "    'dunning_level': 'object',\n",
    "    'SUB_SYSTEM_FD': 'float64',\n",
    "    'SUB_SYSTEM_IN': 'float64',\n",
    "    'SUB_SYSTEM_RF': 'float64',\n",
    "    'SUB_SYSTEM_RP': 'float64',\n",
    "    'SUB_SYSTEM_SP': 'float64',\n",
    "    'SUB_SYSTEM_TF': 'float64',\n",
    "    'n_transactions': 'float64',\n",
    "    'transaction_type_Bank_Trsf_Deposit_Acct': 'float64',\n",
    "    'transaction_type_Customer_Transfer': 'float64',\n",
    "    'transaction_type_Incoming_Wire': 'float64',\n",
    "    'transaction_type_Loan_Disbursement': 'float64',\n",
    "    'transaction_type_Outgoing_Wire': 'float64',\n",
    "}\n",
    "ddf = dd.read_csv(data_path, dtype=dtype)\n",
    "datasets = ddf.compute()    # compile to pd.DataFrame\n",
    "\n",
    "# import glob\n",
    "\n",
    "# data_root = '/home/c44406/datasets/atb_uofa/loan_portfolio/'\n",
    "# datasets_all = []\n",
    "# for dpath in glob.glob(f'{data_root}datasetv7*.csv'):\n",
    "#     df = pd.read_csv(dpath, dtype={'dunning_level':'object'})\n",
    "#     datasets_all.append(df)\n",
    "\n",
    "# datasets = pd.concat(datasets_all, axis=0, ignore_index=True)\n",
    "\n",
    "datasets.head()"
   ]
  },
  {
   "cell_type": "markdown",
   "metadata": {},
   "source": [
    "## Cleaning"
   ]
  },
  {
   "cell_type": "code",
   "execution_count": null,
   "metadata": {},
   "outputs": [],
   "source": [
    "start_date = '2008-01-31'\n",
    "end_date = '2021-09-30'\n",
    "\n",
    "cols = datasets.columns\n",
    "other_cols = [    # non-feature columns\n",
    "    'bus_ptnr_group',\n",
    "     'cal_day',\n",
    "     'naics_id',\n",
    "     'has_loan',\n",
    "]\n",
    "used_cols = cols.str.startswith((\n",
    "    'BRR',\n",
    "    'impaired',\n",
    "    'Oustanding_principle_on_posting_date',\n",
    "    'percentage_rate',\n",
    "    'abs_transactions',\n",
    "    'n_transactions',\n",
    "    'mth_since_brr_update',\n",
    "    # 'defaults',\n",
    "    'transactions',\n",
    "    'SUB_SYSTEM',\n",
    "    'transaction_type',\n",
    "))\n",
    "used_cols = cols[used_cols].to_list()\n",
    "\n",
    "data = datasets[other_cols + used_cols].copy()\n",
    "data['cal_day'] = pd.to_datetime(data['cal_day'], errors='coerce')\n",
    "data = data[data['cal_day'].notnull()].copy()\n",
    "data = data.replace(to_replace=[np.inf, -np.inf], value=[np.nan, np.nan])\n",
    "data = data[(data['cal_day'] >= start_date) & (data['cal_day'] <= end_date)].copy()\n",
    "data = data.sort_values('cal_day')\n",
    "data = data.reset_index(drop=True)\n",
    "\n",
    "used_cols"
   ]
  },
  {
   "cell_type": "code",
   "execution_count": null,
   "metadata": {},
   "outputs": [],
   "source": [
    "data.head()"
   ]
  },
  {
   "cell_type": "markdown",
   "metadata": {},
   "source": [
    "## Scaling"
   ]
  },
  {
   "cell_type": "code",
   "execution_count": null,
   "metadata": {},
   "outputs": [],
   "source": [
    "numeric_transformer = Pipeline(steps=[\n",
    "    ('imputing', SimpleImputer(strategy='median')),\n",
    "    ('scaling', PowerTransformer(method='yeo-johnson', standardize=True)),\n",
    "    ('masking', SimpleImputer(strategy='constant', fill_value=0.)),\n",
    "])\n",
    "preprocessor = ColumnTransformer(transformers=[\n",
    "    ('num_col', numeric_transformer, used_cols),\n",
    "])\n",
    "\n",
    "data[used_cols] = preprocessor.fit_transform(data)"
   ]
  },
  {
   "cell_type": "code",
   "execution_count": null,
   "metadata": {},
   "outputs": [],
   "source": [
    "data.head()"
   ]
  },
  {
   "cell_type": "markdown",
   "metadata": {},
   "source": [
    "## Adding Lagged Features"
   ]
  },
  {
   "cell_type": "code",
   "execution_count": null,
   "metadata": {},
   "outputs": [],
   "source": []
  },
  {
   "cell_type": "markdown",
   "metadata": {},
   "source": [
    "## Saving"
   ]
  },
  {
   "cell_type": "code",
   "execution_count": null,
   "metadata": {},
   "outputs": [],
   "source": [
    "data.columns.to_list()"
   ]
  },
  {
   "cell_type": "code",
   "execution_count": null,
   "metadata": {},
   "outputs": [],
   "source": [
    "data.to_pickle('cluster_data.pkl')"
   ]
  }
 ],
 "metadata": {
  "interpreter": {
   "hash": "0117876f62c81dfd62ee5a8b969e13f43651d82ca09f0fd4efd1430c0890304f"
  },
  "kernelspec": {
   "display_name": "Python 3.8.5 64-bit ('base': conda)",
   "language": "python",
   "name": "python3"
  },
  "language_info": {
   "codemirror_mode": {
    "name": "ipython",
    "version": 3
   },
   "file_extension": ".py",
   "mimetype": "text/x-python",
   "name": "python",
   "nbconvert_exporter": "python",
   "pygments_lexer": "ipython3",
   "version": "3.8.5"
  },
  "orig_nbformat": 4
 },
 "nbformat": 4,
 "nbformat_minor": 2
}
