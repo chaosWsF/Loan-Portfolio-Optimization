{
 "cells": [
  {
   "cell_type": "code",
   "execution_count": 1,
   "id": "a0c9ad36",
   "metadata": {},
   "outputs": [],
   "source": [
    "import numpy as np\n",
    "import pandas as pd\n",
    "\n",
    "pd.set_option('display.max_columns', None)  \n",
    "pd.set_option('display.expand_frame_repr', False)\n",
    "pd.set_option('max_colwidth', None)\n",
    "\n",
    "import glob\n",
    "import pickle\n",
    "\n",
    "from sklearn.pipeline import Pipeline\n",
    "from sklearn.compose import ColumnTransformer\n",
    "from sklearn.impute import SimpleImputer\n",
    "from sklearn.preprocessing import StandardScaler, PowerTransformer\n",
    "from sklearn.decomposition import PCA, IncrementalPCA\n",
    "from sklearn.cluster import KMeans, MiniBatchKMeans\n",
    "\n",
    "from sklearn.metrics import adjusted_mutual_info_score, homogeneity_score, completeness_score, fowlkes_mallows_score    # Supervised / external metrics\n",
    "from sklearn.metrics import silhouette_score, calinski_harabasz_score, davies_bouldin_score    # unsupervised / internal metrics\n",
    "\n",
    "import matplotlib.pyplot as plt\n",
    "import seaborn as sns\n",
    "\n",
    "%matplotlib inline"
   ]
  },
  {
   "cell_type": "markdown",
   "id": "05acc4a3",
   "metadata": {},
   "source": [
    "## Loading"
   ]
  },
  {
   "cell_type": "code",
   "execution_count": 2,
   "id": "a947bf48",
   "metadata": {},
   "outputs": [],
   "source": [
    "data_root = '/home/c44406/datasets/atb_uofa/loan_portfolio/'"
   ]
  },
  {
   "cell_type": "code",
   "execution_count": 3,
   "id": "41ae1730",
   "metadata": {},
   "outputs": [],
   "source": [
    "datasets_all = []\n",
    "for dpath in glob.glob(f'{data_root}datasetv6*.csv'):\n",
    "    df = pd.read_csv(dpath, dtype={'dunning_level':'object'})\n",
    "    datasets_all.append(df)\n",
    "\n",
    "datasets = pd.concat(datasets_all, axis=0, ignore_index=True)"
   ]
  },
  {
   "cell_type": "markdown",
   "id": "f4507abf",
   "metadata": {},
   "source": [
    "### Preview"
   ]
  },
  {
   "cell_type": "code",
   "execution_count": 4,
   "id": "4b82dac9",
   "metadata": {},
   "outputs": [
    {
     "data": {
      "text/html": [
       "<div>\n",
       "<style scoped>\n",
       "    .dataframe tbody tr th:only-of-type {\n",
       "        vertical-align: middle;\n",
       "    }\n",
       "\n",
       "    .dataframe tbody tr th {\n",
       "        vertical-align: top;\n",
       "    }\n",
       "\n",
       "    .dataframe thead th {\n",
       "        text-align: right;\n",
       "    }\n",
       "</style>\n",
       "<table border=\"1\" class=\"dataframe\">\n",
       "  <thead>\n",
       "    <tr style=\"text-align: right;\">\n",
       "      <th></th>\n",
       "      <th>bus_ptnr_group</th>\n",
       "      <th>cal_day</th>\n",
       "      <th>naics_id</th>\n",
       "      <th>BRR</th>\n",
       "      <th>BEACON</th>\n",
       "      <th>dunning_level_code</th>\n",
       "      <th>dunning_level</th>\n",
       "      <th>days_in_arrears</th>\n",
       "      <th>impaired</th>\n",
       "      <th>Oustanding_principle_on_posting_date</th>\n",
       "      <th>percentage_rate</th>\n",
       "      <th>transactions</th>\n",
       "      <th>abs_transactions</th>\n",
       "      <th>transactions_db</th>\n",
       "      <th>transactions_cr</th>\n",
       "      <th>n_transactions</th>\n",
       "      <th>SUB_SYSTEM_DP</th>\n",
       "      <th>SUB_SYSTEM_FD</th>\n",
       "      <th>SUB_SYSTEM_IN</th>\n",
       "      <th>SUB_SYSTEM_LN</th>\n",
       "      <th>SUB_SYSTEM_RF</th>\n",
       "      <th>SUB_SYSTEM_RP</th>\n",
       "      <th>SUB_SYSTEM_SP</th>\n",
       "      <th>SUB_SYSTEM_TF</th>\n",
       "      <th>transaction_type_Loan_Disbursement</th>\n",
       "      <th>transaction_type_Payment_Distrib_Loan</th>\n",
       "      <th>transaction_type_Loan_Payment</th>\n",
       "      <th>transaction_type_Bank_Trsf_Deposit_Acct</th>\n",
       "      <th>transaction_type_Installment_Payment</th>\n",
       "      <th>transaction_type_Transfer</th>\n",
       "      <th>transaction_type_Direct_Deposit</th>\n",
       "      <th>transaction_type_Cheque</th>\n",
       "      <th>transaction_type_Deposit_Cheque</th>\n",
       "      <th>transaction_type_Incoming_Wire</th>\n",
       "      <th>transaction_type_Auto_LOC_Repayment</th>\n",
       "      <th>transaction_type_Outgoing_Wire</th>\n",
       "      <th>transaction_type_EFT_Settlement</th>\n",
       "      <th>transaction_type_Direct_Debit</th>\n",
       "      <th>transaction_type_Overdraft_Transfer</th>\n",
       "      <th>transaction_type_Customer_Transfer</th>\n",
       "      <th>transaction_type_LOC_Disburse_RealTime_Adv</th>\n",
       "      <th>transaction_type_Loan_Transfer</th>\n",
       "      <th>transaction_type_EOD_ODP_Trf_Funded_Acc</th>\n",
       "      <th>transaction_type_misc</th>\n",
       "      <th>ALL_total_assets</th>\n",
       "      <th>ALL_total_cur_liabs</th>\n",
       "      <th>ALL_accts_pay</th>\n",
       "      <th>ALL_dscr</th>\n",
       "      <th>ALL_cp_ltd</th>\n",
       "      <th>CORP_gross_income</th>\n",
       "      <th>CORP_net_cash_income</th>\n",
       "      <th>CORP_income_before_tax</th>\n",
       "      <th>CORP_net_income</th>\n",
       "      <th>CORP_net_income_growth</th>\n",
       "      <th>AGRI_gross_farming_inc</th>\n",
       "      <th>AGRI_net_farm_inc</th>\n",
       "      <th>mth_since_brr_update</th>\n",
       "      <th>defaults_3_months</th>\n",
       "      <th>defaults_6_months</th>\n",
       "      <th>defaults_9_months</th>\n",
       "      <th>defaults_12_months</th>\n",
       "      <th>has_loan</th>\n",
       "    </tr>\n",
       "  </thead>\n",
       "  <tbody>\n",
       "    <tr>\n",
       "      <th>0</th>\n",
       "      <td>770958</td>\n",
       "      <td>2013-11-30</td>\n",
       "      <td>NaN</td>\n",
       "      <td>NaN</td>\n",
       "      <td>NaN</td>\n",
       "      <td>NaN</td>\n",
       "      <td>NaN</td>\n",
       "      <td>NaN</td>\n",
       "      <td>NaN</td>\n",
       "      <td>NaN</td>\n",
       "      <td>NaN</td>\n",
       "      <td>394.08</td>\n",
       "      <td>83243.78</td>\n",
       "      <td>41818.93</td>\n",
       "      <td>41424.85</td>\n",
       "      <td>98.0</td>\n",
       "      <td>55375.52</td>\n",
       "      <td>0.0</td>\n",
       "      <td>0.0</td>\n",
       "      <td>27868.26</td>\n",
       "      <td>0.0</td>\n",
       "      <td>0.0</td>\n",
       "      <td>0.0</td>\n",
       "      <td>0.0</td>\n",
       "      <td>0.0</td>\n",
       "      <td>256.54</td>\n",
       "      <td>256.54</td>\n",
       "      <td>0.0</td>\n",
       "      <td>221.54</td>\n",
       "      <td>0.0</td>\n",
       "      <td>0.00</td>\n",
       "      <td>4037.86</td>\n",
       "      <td>14463.75</td>\n",
       "      <td>0.0</td>\n",
       "      <td>28709.44</td>\n",
       "      <td>0.0</td>\n",
       "      <td>2745.62</td>\n",
       "      <td>878.98</td>\n",
       "      <td>5109.42</td>\n",
       "      <td>0.0</td>\n",
       "      <td>7377.96</td>\n",
       "      <td>7377.96</td>\n",
       "      <td>5109.42</td>\n",
       "      <td>6698.75</td>\n",
       "      <td>NaN</td>\n",
       "      <td>NaN</td>\n",
       "      <td>NaN</td>\n",
       "      <td>NaN</td>\n",
       "      <td>NaN</td>\n",
       "      <td>NaN</td>\n",
       "      <td>NaN</td>\n",
       "      <td>NaN</td>\n",
       "      <td>NaN</td>\n",
       "      <td>NaN</td>\n",
       "      <td>NaN</td>\n",
       "      <td>NaN</td>\n",
       "      <td>NaN</td>\n",
       "      <td>NaN</td>\n",
       "      <td>NaN</td>\n",
       "      <td>NaN</td>\n",
       "      <td>NaN</td>\n",
       "      <td>False</td>\n",
       "    </tr>\n",
       "    <tr>\n",
       "      <th>1</th>\n",
       "      <td>181448</td>\n",
       "      <td>2013-12-31</td>\n",
       "      <td>NaN</td>\n",
       "      <td>NaN</td>\n",
       "      <td>NaN</td>\n",
       "      <td>NaN</td>\n",
       "      <td>NaN</td>\n",
       "      <td>NaN</td>\n",
       "      <td>NaN</td>\n",
       "      <td>NaN</td>\n",
       "      <td>NaN</td>\n",
       "      <td>-3447.19</td>\n",
       "      <td>67485.93</td>\n",
       "      <td>32019.37</td>\n",
       "      <td>35466.56</td>\n",
       "      <td>82.0</td>\n",
       "      <td>46268.51</td>\n",
       "      <td>0.0</td>\n",
       "      <td>0.0</td>\n",
       "      <td>21217.42</td>\n",
       "      <td>0.0</td>\n",
       "      <td>0.0</td>\n",
       "      <td>0.0</td>\n",
       "      <td>0.0</td>\n",
       "      <td>0.0</td>\n",
       "      <td>968.48</td>\n",
       "      <td>956.48</td>\n",
       "      <td>0.0</td>\n",
       "      <td>956.48</td>\n",
       "      <td>0.0</td>\n",
       "      <td>365.29</td>\n",
       "      <td>13107.72</td>\n",
       "      <td>11793.86</td>\n",
       "      <td>0.0</td>\n",
       "      <td>14241.44</td>\n",
       "      <td>0.0</td>\n",
       "      <td>0.00</td>\n",
       "      <td>795.26</td>\n",
       "      <td>8373.64</td>\n",
       "      <td>0.0</td>\n",
       "      <td>2428.90</td>\n",
       "      <td>2428.90</td>\n",
       "      <td>8373.64</td>\n",
       "      <td>2545.84</td>\n",
       "      <td>NaN</td>\n",
       "      <td>NaN</td>\n",
       "      <td>NaN</td>\n",
       "      <td>NaN</td>\n",
       "      <td>NaN</td>\n",
       "      <td>NaN</td>\n",
       "      <td>NaN</td>\n",
       "      <td>NaN</td>\n",
       "      <td>NaN</td>\n",
       "      <td>NaN</td>\n",
       "      <td>NaN</td>\n",
       "      <td>NaN</td>\n",
       "      <td>NaN</td>\n",
       "      <td>NaN</td>\n",
       "      <td>NaN</td>\n",
       "      <td>NaN</td>\n",
       "      <td>NaN</td>\n",
       "      <td>False</td>\n",
       "    </tr>\n",
       "    <tr>\n",
       "      <th>2</th>\n",
       "      <td>395339</td>\n",
       "      <td>2015-02-28</td>\n",
       "      <td>NaN</td>\n",
       "      <td>NaN</td>\n",
       "      <td>NaN</td>\n",
       "      <td>NaN</td>\n",
       "      <td>NaN</td>\n",
       "      <td>NaN</td>\n",
       "      <td>NaN</td>\n",
       "      <td>NaN</td>\n",
       "      <td>NaN</td>\n",
       "      <td>-13386.23</td>\n",
       "      <td>101867.77</td>\n",
       "      <td>44240.77</td>\n",
       "      <td>57627.00</td>\n",
       "      <td>48.0</td>\n",
       "      <td>94700.91</td>\n",
       "      <td>0.0</td>\n",
       "      <td>0.0</td>\n",
       "      <td>7166.86</td>\n",
       "      <td>0.0</td>\n",
       "      <td>0.0</td>\n",
       "      <td>0.0</td>\n",
       "      <td>0.0</td>\n",
       "      <td>0.0</td>\n",
       "      <td>87.05</td>\n",
       "      <td>2.50</td>\n",
       "      <td>0.0</td>\n",
       "      <td>2.50</td>\n",
       "      <td>0.0</td>\n",
       "      <td>0.00</td>\n",
       "      <td>29439.45</td>\n",
       "      <td>37248.01</td>\n",
       "      <td>0.0</td>\n",
       "      <td>3539.08</td>\n",
       "      <td>0.0</td>\n",
       "      <td>0.00</td>\n",
       "      <td>44.50</td>\n",
       "      <td>5046.62</td>\n",
       "      <td>0.0</td>\n",
       "      <td>2.50</td>\n",
       "      <td>2.50</td>\n",
       "      <td>5046.62</td>\n",
       "      <td>21326.27</td>\n",
       "      <td>NaN</td>\n",
       "      <td>NaN</td>\n",
       "      <td>NaN</td>\n",
       "      <td>NaN</td>\n",
       "      <td>NaN</td>\n",
       "      <td>NaN</td>\n",
       "      <td>NaN</td>\n",
       "      <td>NaN</td>\n",
       "      <td>NaN</td>\n",
       "      <td>NaN</td>\n",
       "      <td>NaN</td>\n",
       "      <td>NaN</td>\n",
       "      <td>NaN</td>\n",
       "      <td>NaN</td>\n",
       "      <td>NaN</td>\n",
       "      <td>NaN</td>\n",
       "      <td>NaN</td>\n",
       "      <td>False</td>\n",
       "    </tr>\n",
       "    <tr>\n",
       "      <th>3</th>\n",
       "      <td>386265</td>\n",
       "      <td>2014-08-31</td>\n",
       "      <td>NaN</td>\n",
       "      <td>NaN</td>\n",
       "      <td>NaN</td>\n",
       "      <td>NaN</td>\n",
       "      <td>NaN</td>\n",
       "      <td>NaN</td>\n",
       "      <td>NaN</td>\n",
       "      <td>NaN</td>\n",
       "      <td>NaN</td>\n",
       "      <td>-44987.63</td>\n",
       "      <td>1011278.75</td>\n",
       "      <td>483145.56</td>\n",
       "      <td>528133.19</td>\n",
       "      <td>204.0</td>\n",
       "      <td>753442.98</td>\n",
       "      <td>0.0</td>\n",
       "      <td>0.0</td>\n",
       "      <td>257835.77</td>\n",
       "      <td>0.0</td>\n",
       "      <td>0.0</td>\n",
       "      <td>0.0</td>\n",
       "      <td>0.0</td>\n",
       "      <td>0.0</td>\n",
       "      <td>326.46</td>\n",
       "      <td>287.96</td>\n",
       "      <td>0.0</td>\n",
       "      <td>287.96</td>\n",
       "      <td>0.0</td>\n",
       "      <td>83794.10</td>\n",
       "      <td>229876.06</td>\n",
       "      <td>142168.60</td>\n",
       "      <td>0.0</td>\n",
       "      <td>211548.34</td>\n",
       "      <td>0.0</td>\n",
       "      <td>0.00</td>\n",
       "      <td>17004.15</td>\n",
       "      <td>141424.34</td>\n",
       "      <td>0.0</td>\n",
       "      <td>9331.42</td>\n",
       "      <td>9331.42</td>\n",
       "      <td>141424.34</td>\n",
       "      <td>13490.59</td>\n",
       "      <td>NaN</td>\n",
       "      <td>NaN</td>\n",
       "      <td>NaN</td>\n",
       "      <td>NaN</td>\n",
       "      <td>NaN</td>\n",
       "      <td>NaN</td>\n",
       "      <td>NaN</td>\n",
       "      <td>NaN</td>\n",
       "      <td>NaN</td>\n",
       "      <td>NaN</td>\n",
       "      <td>NaN</td>\n",
       "      <td>NaN</td>\n",
       "      <td>NaN</td>\n",
       "      <td>NaN</td>\n",
       "      <td>NaN</td>\n",
       "      <td>NaN</td>\n",
       "      <td>NaN</td>\n",
       "      <td>False</td>\n",
       "    </tr>\n",
       "    <tr>\n",
       "      <th>4</th>\n",
       "      <td>634872</td>\n",
       "      <td>2017-04-30</td>\n",
       "      <td>NaN</td>\n",
       "      <td>NaN</td>\n",
       "      <td>NaN</td>\n",
       "      <td>NaN</td>\n",
       "      <td>NaN</td>\n",
       "      <td>NaN</td>\n",
       "      <td>NaN</td>\n",
       "      <td>NaN</td>\n",
       "      <td>NaN</td>\n",
       "      <td>821.90</td>\n",
       "      <td>11822.50</td>\n",
       "      <td>6322.20</td>\n",
       "      <td>5500.30</td>\n",
       "      <td>24.0</td>\n",
       "      <td>7416.92</td>\n",
       "      <td>0.0</td>\n",
       "      <td>0.0</td>\n",
       "      <td>4405.58</td>\n",
       "      <td>0.0</td>\n",
       "      <td>0.0</td>\n",
       "      <td>0.0</td>\n",
       "      <td>0.0</td>\n",
       "      <td>0.0</td>\n",
       "      <td>424.28</td>\n",
       "      <td>424.28</td>\n",
       "      <td>0.0</td>\n",
       "      <td>399.28</td>\n",
       "      <td>0.0</td>\n",
       "      <td>0.00</td>\n",
       "      <td>0.00</td>\n",
       "      <td>2265.18</td>\n",
       "      <td>0.0</td>\n",
       "      <td>3530.36</td>\n",
       "      <td>0.0</td>\n",
       "      <td>0.00</td>\n",
       "      <td>0.00</td>\n",
       "      <td>19.00</td>\n",
       "      <td>0.0</td>\n",
       "      <td>924.28</td>\n",
       "      <td>924.28</td>\n",
       "      <td>19.00</td>\n",
       "      <td>2892.56</td>\n",
       "      <td>NaN</td>\n",
       "      <td>NaN</td>\n",
       "      <td>NaN</td>\n",
       "      <td>NaN</td>\n",
       "      <td>NaN</td>\n",
       "      <td>NaN</td>\n",
       "      <td>NaN</td>\n",
       "      <td>NaN</td>\n",
       "      <td>NaN</td>\n",
       "      <td>NaN</td>\n",
       "      <td>NaN</td>\n",
       "      <td>NaN</td>\n",
       "      <td>NaN</td>\n",
       "      <td>NaN</td>\n",
       "      <td>NaN</td>\n",
       "      <td>NaN</td>\n",
       "      <td>1.0</td>\n",
       "      <td>False</td>\n",
       "    </tr>\n",
       "  </tbody>\n",
       "</table>\n",
       "</div>"
      ],
      "text/plain": [
       "   bus_ptnr_group     cal_day  naics_id  BRR  BEACON  dunning_level_code dunning_level  days_in_arrears  impaired  Oustanding_principle_on_posting_date  percentage_rate  transactions  abs_transactions  transactions_db  transactions_cr  n_transactions  SUB_SYSTEM_DP  SUB_SYSTEM_FD  SUB_SYSTEM_IN  SUB_SYSTEM_LN  SUB_SYSTEM_RF  SUB_SYSTEM_RP  SUB_SYSTEM_SP  SUB_SYSTEM_TF  transaction_type_Loan_Disbursement  transaction_type_Payment_Distrib_Loan  transaction_type_Loan_Payment  transaction_type_Bank_Trsf_Deposit_Acct  transaction_type_Installment_Payment  transaction_type_Transfer  transaction_type_Direct_Deposit  transaction_type_Cheque  transaction_type_Deposit_Cheque  transaction_type_Incoming_Wire  transaction_type_Auto_LOC_Repayment  transaction_type_Outgoing_Wire  transaction_type_EFT_Settlement  transaction_type_Direct_Debit  transaction_type_Overdraft_Transfer  transaction_type_Customer_Transfer  transaction_type_LOC_Disburse_RealTime_Adv  transaction_type_Loan_Transfer  transaction_type_EOD_ODP_Trf_Funded_Acc  transaction_type_misc  ALL_total_assets  ALL_total_cur_liabs  ALL_accts_pay  ALL_dscr  ALL_cp_ltd  CORP_gross_income  CORP_net_cash_income  CORP_income_before_tax  CORP_net_income  CORP_net_income_growth  AGRI_gross_farming_inc  AGRI_net_farm_inc  mth_since_brr_update  defaults_3_months  defaults_6_months  defaults_9_months  defaults_12_months  has_loan\n",
       "0          770958  2013-11-30       NaN  NaN     NaN                 NaN           NaN              NaN       NaN                                   NaN              NaN        394.08          83243.78         41818.93         41424.85            98.0       55375.52            0.0            0.0       27868.26            0.0            0.0            0.0            0.0                                 0.0                                 256.54                         256.54                                      0.0                                221.54                        0.0                             0.00                  4037.86                         14463.75                             0.0                             28709.44                             0.0                          2745.62                         878.98                              5109.42                                 0.0                                     7377.96                         7377.96                                  5109.42                6698.75               NaN                  NaN            NaN       NaN         NaN                NaN                   NaN                     NaN              NaN                     NaN                     NaN                NaN                   NaN                NaN                NaN                NaN                 NaN     False\n",
       "1          181448  2013-12-31       NaN  NaN     NaN                 NaN           NaN              NaN       NaN                                   NaN              NaN      -3447.19          67485.93         32019.37         35466.56            82.0       46268.51            0.0            0.0       21217.42            0.0            0.0            0.0            0.0                                 0.0                                 968.48                         956.48                                      0.0                                956.48                        0.0                           365.29                 13107.72                         11793.86                             0.0                             14241.44                             0.0                             0.00                         795.26                              8373.64                                 0.0                                     2428.90                         2428.90                                  8373.64                2545.84               NaN                  NaN            NaN       NaN         NaN                NaN                   NaN                     NaN              NaN                     NaN                     NaN                NaN                   NaN                NaN                NaN                NaN                 NaN     False\n",
       "2          395339  2015-02-28       NaN  NaN     NaN                 NaN           NaN              NaN       NaN                                   NaN              NaN     -13386.23         101867.77         44240.77         57627.00            48.0       94700.91            0.0            0.0        7166.86            0.0            0.0            0.0            0.0                                 0.0                                  87.05                           2.50                                      0.0                                  2.50                        0.0                             0.00                 29439.45                         37248.01                             0.0                              3539.08                             0.0                             0.00                          44.50                              5046.62                                 0.0                                        2.50                            2.50                                  5046.62               21326.27               NaN                  NaN            NaN       NaN         NaN                NaN                   NaN                     NaN              NaN                     NaN                     NaN                NaN                   NaN                NaN                NaN                NaN                 NaN     False\n",
       "3          386265  2014-08-31       NaN  NaN     NaN                 NaN           NaN              NaN       NaN                                   NaN              NaN     -44987.63        1011278.75        483145.56        528133.19           204.0      753442.98            0.0            0.0      257835.77            0.0            0.0            0.0            0.0                                 0.0                                 326.46                         287.96                                      0.0                                287.96                        0.0                         83794.10                229876.06                        142168.60                             0.0                            211548.34                             0.0                             0.00                       17004.15                            141424.34                                 0.0                                     9331.42                         9331.42                                141424.34               13490.59               NaN                  NaN            NaN       NaN         NaN                NaN                   NaN                     NaN              NaN                     NaN                     NaN                NaN                   NaN                NaN                NaN                NaN                 NaN     False\n",
       "4          634872  2017-04-30       NaN  NaN     NaN                 NaN           NaN              NaN       NaN                                   NaN              NaN        821.90          11822.50          6322.20          5500.30            24.0        7416.92            0.0            0.0        4405.58            0.0            0.0            0.0            0.0                                 0.0                                 424.28                         424.28                                      0.0                                399.28                        0.0                             0.00                     0.00                          2265.18                             0.0                              3530.36                             0.0                             0.00                           0.00                                19.00                                 0.0                                      924.28                          924.28                                    19.00                2892.56               NaN                  NaN            NaN       NaN         NaN                NaN                   NaN                     NaN              NaN                     NaN                     NaN                NaN                   NaN                NaN                NaN                NaN                 1.0     False"
      ]
     },
     "execution_count": 4,
     "metadata": {},
     "output_type": "execute_result"
    }
   ],
   "source": [
    "datasets.head()"
   ]
  },
  {
   "cell_type": "code",
   "execution_count": 5,
   "id": "ea07c91f",
   "metadata": {},
   "outputs": [
    {
     "data": {
      "text/plain": [
       "(2058256, 62)"
      ]
     },
     "execution_count": 5,
     "metadata": {},
     "output_type": "execute_result"
    }
   ],
   "source": [
    "datasets.shape"
   ]
  },
  {
   "cell_type": "code",
   "execution_count": 6,
   "id": "aa028ce7",
   "metadata": {},
   "outputs": [
    {
     "data": {
      "text/plain": [
       "bus_ptnr_group     int64\n",
       "cal_day           object\n",
       "dunning_level     object\n",
       "has_loan            bool\n",
       "dtype: object"
      ]
     },
     "execution_count": 6,
     "metadata": {},
     "output_type": "execute_result"
    }
   ],
   "source": [
    "# non float64\n",
    "tmp = datasets.dtypes\n",
    "tmp[tmp != 'float64']"
   ]
  },
  {
   "cell_type": "code",
   "execution_count": 7,
   "id": "066c532e",
   "metadata": {},
   "outputs": [
    {
     "data": {
      "text/plain": [
       "66711      2008-06-30\n",
       "751020     2008-07-31\n",
       "1462566    2008-07-31\n",
       "761632     2008-07-31\n",
       "1463539    2008-12-31\n",
       "              ...    \n",
       "679248     9999-04-30\n",
       "1748139    9999-04-30\n",
       "1278118    9999-12-31\n",
       "2057760    9999-12-31\n",
       "1881949    9999-12-31\n",
       "Name: cal_day, Length: 2058256, dtype: object"
      ]
     },
     "execution_count": 7,
     "metadata": {},
     "output_type": "execute_result"
    }
   ],
   "source": [
    "# range of calendar\n",
    "datasets.sort_values('cal_day')['cal_day']"
   ]
  },
  {
   "cell_type": "code",
   "execution_count": 8,
   "id": "c0d7446d",
   "metadata": {},
   "outputs": [
    {
     "data": {
      "text/html": [
       "<div>\n",
       "<style scoped>\n",
       "    .dataframe tbody tr th:only-of-type {\n",
       "        vertical-align: middle;\n",
       "    }\n",
       "\n",
       "    .dataframe tbody tr th {\n",
       "        vertical-align: top;\n",
       "    }\n",
       "\n",
       "    .dataframe thead th {\n",
       "        text-align: right;\n",
       "    }\n",
       "</style>\n",
       "<table border=\"1\" class=\"dataframe\">\n",
       "  <thead>\n",
       "    <tr style=\"text-align: right;\">\n",
       "      <th></th>\n",
       "      <th>bus_ptnr_group</th>\n",
       "      <th>cal_day</th>\n",
       "      <th>naics_id</th>\n",
       "      <th>BRR</th>\n",
       "      <th>BEACON</th>\n",
       "      <th>dunning_level_code</th>\n",
       "      <th>dunning_level</th>\n",
       "      <th>days_in_arrears</th>\n",
       "      <th>impaired</th>\n",
       "      <th>Oustanding_principle_on_posting_date</th>\n",
       "      <th>percentage_rate</th>\n",
       "      <th>transactions</th>\n",
       "      <th>abs_transactions</th>\n",
       "      <th>transactions_db</th>\n",
       "      <th>transactions_cr</th>\n",
       "      <th>n_transactions</th>\n",
       "      <th>SUB_SYSTEM_DP</th>\n",
       "      <th>SUB_SYSTEM_FD</th>\n",
       "      <th>SUB_SYSTEM_IN</th>\n",
       "      <th>SUB_SYSTEM_LN</th>\n",
       "      <th>SUB_SYSTEM_RF</th>\n",
       "      <th>SUB_SYSTEM_RP</th>\n",
       "      <th>SUB_SYSTEM_SP</th>\n",
       "      <th>SUB_SYSTEM_TF</th>\n",
       "      <th>transaction_type_Loan_Disbursement</th>\n",
       "      <th>transaction_type_Payment_Distrib_Loan</th>\n",
       "      <th>transaction_type_Loan_Payment</th>\n",
       "      <th>transaction_type_Bank_Trsf_Deposit_Acct</th>\n",
       "      <th>transaction_type_Installment_Payment</th>\n",
       "      <th>transaction_type_Transfer</th>\n",
       "      <th>transaction_type_Direct_Deposit</th>\n",
       "      <th>transaction_type_Cheque</th>\n",
       "      <th>transaction_type_Deposit_Cheque</th>\n",
       "      <th>transaction_type_Incoming_Wire</th>\n",
       "      <th>transaction_type_Auto_LOC_Repayment</th>\n",
       "      <th>transaction_type_Outgoing_Wire</th>\n",
       "      <th>transaction_type_EFT_Settlement</th>\n",
       "      <th>transaction_type_Direct_Debit</th>\n",
       "      <th>transaction_type_Overdraft_Transfer</th>\n",
       "      <th>transaction_type_Customer_Transfer</th>\n",
       "      <th>transaction_type_LOC_Disburse_RealTime_Adv</th>\n",
       "      <th>transaction_type_Loan_Transfer</th>\n",
       "      <th>transaction_type_EOD_ODP_Trf_Funded_Acc</th>\n",
       "      <th>transaction_type_misc</th>\n",
       "      <th>ALL_total_assets</th>\n",
       "      <th>ALL_total_cur_liabs</th>\n",
       "      <th>ALL_accts_pay</th>\n",
       "      <th>ALL_dscr</th>\n",
       "      <th>ALL_cp_ltd</th>\n",
       "      <th>CORP_gross_income</th>\n",
       "      <th>CORP_net_cash_income</th>\n",
       "      <th>CORP_income_before_tax</th>\n",
       "      <th>CORP_net_income</th>\n",
       "      <th>CORP_net_income_growth</th>\n",
       "      <th>AGRI_gross_farming_inc</th>\n",
       "      <th>AGRI_net_farm_inc</th>\n",
       "      <th>mth_since_brr_update</th>\n",
       "      <th>defaults_3_months</th>\n",
       "      <th>defaults_6_months</th>\n",
       "      <th>defaults_9_months</th>\n",
       "      <th>defaults_12_months</th>\n",
       "      <th>has_loan</th>\n",
       "    </tr>\n",
       "  </thead>\n",
       "  <tbody>\n",
       "    <tr>\n",
       "      <th>0</th>\n",
       "      <td>0.0</td>\n",
       "      <td>0.0</td>\n",
       "      <td>0.23856</td>\n",
       "      <td>0.23856</td>\n",
       "      <td>0.955958</td>\n",
       "      <td>0.752335</td>\n",
       "      <td>0.9617</td>\n",
       "      <td>0.754198</td>\n",
       "      <td>0.23856</td>\n",
       "      <td>0.23856</td>\n",
       "      <td>0.23856</td>\n",
       "      <td>0.065637</td>\n",
       "      <td>0.065637</td>\n",
       "      <td>0.065637</td>\n",
       "      <td>0.065637</td>\n",
       "      <td>0.065637</td>\n",
       "      <td>0.065637</td>\n",
       "      <td>0.065637</td>\n",
       "      <td>0.065637</td>\n",
       "      <td>0.065637</td>\n",
       "      <td>0.065637</td>\n",
       "      <td>0.065637</td>\n",
       "      <td>0.065637</td>\n",
       "      <td>0.065637</td>\n",
       "      <td>0.065637</td>\n",
       "      <td>0.065637</td>\n",
       "      <td>0.065637</td>\n",
       "      <td>0.065637</td>\n",
       "      <td>0.065637</td>\n",
       "      <td>0.065637</td>\n",
       "      <td>0.065637</td>\n",
       "      <td>0.065637</td>\n",
       "      <td>0.065637</td>\n",
       "      <td>0.065637</td>\n",
       "      <td>0.065637</td>\n",
       "      <td>0.065637</td>\n",
       "      <td>0.065637</td>\n",
       "      <td>0.065637</td>\n",
       "      <td>0.065637</td>\n",
       "      <td>0.065637</td>\n",
       "      <td>0.065637</td>\n",
       "      <td>0.065637</td>\n",
       "      <td>0.065637</td>\n",
       "      <td>0.065637</td>\n",
       "      <td>0.514138</td>\n",
       "      <td>0.514138</td>\n",
       "      <td>0.514138</td>\n",
       "      <td>0.514138</td>\n",
       "      <td>0.514138</td>\n",
       "      <td>0.514138</td>\n",
       "      <td>0.514138</td>\n",
       "      <td>0.514138</td>\n",
       "      <td>0.514138</td>\n",
       "      <td>0.514138</td>\n",
       "      <td>0.514138</td>\n",
       "      <td>0.514138</td>\n",
       "      <td>0.23856</td>\n",
       "      <td>0.214896</td>\n",
       "      <td>0.194432</td>\n",
       "      <td>0.175716</td>\n",
       "      <td>0.158415</td>\n",
       "      <td>0.0</td>\n",
       "    </tr>\n",
       "  </tbody>\n",
       "</table>\n",
       "</div>"
      ],
      "text/plain": [
       "   bus_ptnr_group  cal_day  naics_id      BRR    BEACON  dunning_level_code  dunning_level  days_in_arrears  impaired  Oustanding_principle_on_posting_date  percentage_rate  transactions  abs_transactions  transactions_db  transactions_cr  n_transactions  SUB_SYSTEM_DP  SUB_SYSTEM_FD  SUB_SYSTEM_IN  SUB_SYSTEM_LN  SUB_SYSTEM_RF  SUB_SYSTEM_RP  SUB_SYSTEM_SP  SUB_SYSTEM_TF  transaction_type_Loan_Disbursement  transaction_type_Payment_Distrib_Loan  transaction_type_Loan_Payment  transaction_type_Bank_Trsf_Deposit_Acct  transaction_type_Installment_Payment  transaction_type_Transfer  transaction_type_Direct_Deposit  transaction_type_Cheque  transaction_type_Deposit_Cheque  transaction_type_Incoming_Wire  transaction_type_Auto_LOC_Repayment  transaction_type_Outgoing_Wire  transaction_type_EFT_Settlement  transaction_type_Direct_Debit  transaction_type_Overdraft_Transfer  transaction_type_Customer_Transfer  transaction_type_LOC_Disburse_RealTime_Adv  transaction_type_Loan_Transfer  transaction_type_EOD_ODP_Trf_Funded_Acc  transaction_type_misc  ALL_total_assets  ALL_total_cur_liabs  ALL_accts_pay  ALL_dscr  ALL_cp_ltd  CORP_gross_income  CORP_net_cash_income  CORP_income_before_tax  CORP_net_income  CORP_net_income_growth  AGRI_gross_farming_inc  AGRI_net_farm_inc  mth_since_brr_update  defaults_3_months  defaults_6_months  defaults_9_months  defaults_12_months  has_loan\n",
       "0             0.0      0.0   0.23856  0.23856  0.955958            0.752335         0.9617         0.754198   0.23856                               0.23856          0.23856      0.065637          0.065637         0.065637         0.065637        0.065637       0.065637       0.065637       0.065637       0.065637       0.065637       0.065637       0.065637       0.065637                            0.065637                               0.065637                       0.065637                                 0.065637                              0.065637                   0.065637                         0.065637                 0.065637                         0.065637                        0.065637                             0.065637                        0.065637                         0.065637                       0.065637                             0.065637                            0.065637                                    0.065637                        0.065637                                 0.065637               0.065637          0.514138             0.514138       0.514138  0.514138    0.514138           0.514138              0.514138                0.514138         0.514138                0.514138                0.514138           0.514138               0.23856           0.214896           0.194432           0.175716            0.158415       0.0"
      ]
     },
     "execution_count": 8,
     "metadata": {},
     "output_type": "execute_result"
    }
   ],
   "source": [
    "# proportion of missing values\n",
    "pd.DataFrame(dict(zip(datasets.columns, datasets.isna().to_numpy().sum(axis=0) / len(datasets))), index=[0])"
   ]
  },
  {
   "cell_type": "markdown",
   "id": "1b169c95",
   "metadata": {},
   "source": [
    "## Cleaning"
   ]
  },
  {
   "cell_type": "code",
   "execution_count": 4,
   "id": "8cc05a7e",
   "metadata": {},
   "outputs": [],
   "source": [
    "start_date = '2008-01-31'\n",
    "end_date = '2021-09-30'\n",
    "\n",
    "\n",
    "cols = datasets.columns\n",
    "\n",
    "# non-feature columns\n",
    "other_cols = [\n",
    "    'bus_ptnr_group',\n",
    "     'cal_day',\n",
    "     'naics_id',\n",
    "     'has_loan'\n",
    "]\n",
    "\n",
    "\n",
    "used_cols = cols.str.startswith((\n",
    "    'BRR', \n",
    "    'impaired', \n",
    "    'Oustanding_principle_on_posting_date', \n",
    "    'percentage_rate', \n",
    "    'abs_transactions', \n",
    "    'n_transactions', \n",
    "    'mth_since_brr_update', \n",
    "#     'defaults', \n",
    "    'transactions', \n",
    "    'SUB_SYSTEM', \n",
    "    'transaction_type'\n",
    "))\n",
    "used_cols = cols[used_cols].to_list()"
   ]
  },
  {
   "cell_type": "code",
   "execution_count": 5,
   "id": "09fce779",
   "metadata": {},
   "outputs": [],
   "source": [
    "data = datasets[other_cols + used_cols].copy()\n",
    "data['cal_day'] = pd.to_datetime(data['cal_day'], errors='coerce')\n",
    "data = data[data['cal_day'].notnull()].copy()\n",
    "data.replace(to_replace=[np.inf, -np.inf], value=[np.nan, np.nan], inplace=True)\n",
    "data = data[data['cal_day'] >= start_date].copy()\n",
    "data = data[data['cal_day'] <= end_date].copy()"
   ]
  },
  {
   "cell_type": "code",
   "execution_count": 6,
   "id": "c49590aa",
   "metadata": {},
   "outputs": [],
   "source": [
    "ppl = Pipeline(steps=[\n",
    "    ('masking', SimpleImputer(verbose=100)),\n",
    "    ('scaling', PowerTransformer())\n",
    "])\n",
    "\n",
    "transformer = ColumnTransformer(transformers=[\n",
    "    ('features', ppl, used_cols)\n",
    "])\n",
    "\n",
    "data[used_cols] = transformer.fit_transform(data)"
   ]
  },
  {
   "cell_type": "code",
   "execution_count": 7,
   "id": "83adc130",
   "metadata": {},
   "outputs": [
    {
     "data": {
      "text/plain": [
       "array([     0,      0, 490937,      0,      0,      0,      0,      0,\n",
       "            0,      0,      0,      0,      0,      0,      0,      0,\n",
       "            0,      0,      0,      0,      0,      0,      0,      0,\n",
       "            0,      0,      0,      0,      0,      0,      0,      0,\n",
       "            0,      0,      0,      0,      0,      0,      0,      0,\n",
       "            0,      0])"
      ]
     },
     "execution_count": 7,
     "metadata": {},
     "output_type": "execute_result"
    }
   ],
   "source": [
    "data.isna().to_numpy().sum(axis=0)"
   ]
  },
  {
   "cell_type": "code",
   "execution_count": 8,
   "id": "8756c921",
   "metadata": {},
   "outputs": [],
   "source": [
    "data.to_pickle('transformed.pkl')"
   ]
  },
  {
   "cell_type": "markdown",
   "id": "5c6bd6b1",
   "metadata": {},
   "source": [
    "## PCA"
   ]
  },
  {
   "cell_type": "code",
   "execution_count": 47,
   "id": "61d907e9",
   "metadata": {},
   "outputs": [],
   "source": [
    "data = pd.read_pickle('transformed.pkl')"
   ]
  },
  {
   "cell_type": "code",
   "execution_count": 48,
   "id": "51fc6323",
   "metadata": {},
   "outputs": [
    {
     "data": {
      "text/html": [
       "<div>\n",
       "<style scoped>\n",
       "    .dataframe tbody tr th:only-of-type {\n",
       "        vertical-align: middle;\n",
       "    }\n",
       "\n",
       "    .dataframe tbody tr th {\n",
       "        vertical-align: top;\n",
       "    }\n",
       "\n",
       "    .dataframe thead th {\n",
       "        text-align: right;\n",
       "    }\n",
       "</style>\n",
       "<table border=\"1\" class=\"dataframe\">\n",
       "  <thead>\n",
       "    <tr style=\"text-align: right;\">\n",
       "      <th></th>\n",
       "      <th>bus_ptnr_group</th>\n",
       "      <th>cal_day</th>\n",
       "      <th>naics_id</th>\n",
       "      <th>has_loan</th>\n",
       "      <th>BRR</th>\n",
       "      <th>impaired</th>\n",
       "      <th>Oustanding_principle_on_posting_date</th>\n",
       "      <th>percentage_rate</th>\n",
       "      <th>transactions</th>\n",
       "      <th>abs_transactions</th>\n",
       "      <th>transactions_db</th>\n",
       "      <th>transactions_cr</th>\n",
       "      <th>n_transactions</th>\n",
       "      <th>SUB_SYSTEM_DP</th>\n",
       "      <th>SUB_SYSTEM_FD</th>\n",
       "      <th>SUB_SYSTEM_IN</th>\n",
       "      <th>SUB_SYSTEM_LN</th>\n",
       "      <th>SUB_SYSTEM_RF</th>\n",
       "      <th>SUB_SYSTEM_RP</th>\n",
       "      <th>SUB_SYSTEM_SP</th>\n",
       "      <th>SUB_SYSTEM_TF</th>\n",
       "      <th>transaction_type_Loan_Disbursement</th>\n",
       "      <th>transaction_type_Payment_Distrib_Loan</th>\n",
       "      <th>transaction_type_Loan_Payment</th>\n",
       "      <th>transaction_type_Bank_Trsf_Deposit_Acct</th>\n",
       "      <th>transaction_type_Installment_Payment</th>\n",
       "      <th>transaction_type_Transfer</th>\n",
       "      <th>transaction_type_Direct_Deposit</th>\n",
       "      <th>transaction_type_Cheque</th>\n",
       "      <th>transaction_type_Deposit_Cheque</th>\n",
       "      <th>transaction_type_Incoming_Wire</th>\n",
       "      <th>transaction_type_Auto_LOC_Repayment</th>\n",
       "      <th>transaction_type_Outgoing_Wire</th>\n",
       "      <th>transaction_type_EFT_Settlement</th>\n",
       "      <th>transaction_type_Direct_Debit</th>\n",
       "      <th>transaction_type_Overdraft_Transfer</th>\n",
       "      <th>transaction_type_Customer_Transfer</th>\n",
       "      <th>transaction_type_LOC_Disburse_RealTime_Adv</th>\n",
       "      <th>transaction_type_Loan_Transfer</th>\n",
       "      <th>transaction_type_EOD_ODP_Trf_Funded_Acc</th>\n",
       "      <th>transaction_type_misc</th>\n",
       "      <th>mth_since_brr_update</th>\n",
       "    </tr>\n",
       "  </thead>\n",
       "  <tbody>\n",
       "    <tr>\n",
       "      <th>1327691</th>\n",
       "      <td>315757</td>\n",
       "      <td>2012-01-31</td>\n",
       "      <td>111190.0</td>\n",
       "      <td>True</td>\n",
       "      <td>0.868297</td>\n",
       "      <td>-0.556678</td>\n",
       "      <td>0.457500</td>\n",
       "      <td>0.334439</td>\n",
       "      <td>0.002794</td>\n",
       "      <td>1.294558</td>\n",
       "      <td>1.258266</td>\n",
       "      <td>1.296445</td>\n",
       "      <td>0.459906</td>\n",
       "      <td>0.988967</td>\n",
       "      <td>3.537966</td>\n",
       "      <td>3.462281</td>\n",
       "      <td>1.457309</td>\n",
       "      <td>3.765021</td>\n",
       "      <td>3.678037</td>\n",
       "      <td>3.683163</td>\n",
       "      <td>3.651025</td>\n",
       "      <td>2.450809</td>\n",
       "      <td>1.671021</td>\n",
       "      <td>1.605765</td>\n",
       "      <td>2.692965</td>\n",
       "      <td>1.619145</td>\n",
       "      <td>1.458472</td>\n",
       "      <td>1.161136</td>\n",
       "      <td>0.997018</td>\n",
       "      <td>1.132393</td>\n",
       "      <td>3.054739</td>\n",
       "      <td>1.387085</td>\n",
       "      <td>3.083962</td>\n",
       "      <td>2.254734</td>\n",
       "      <td>1.10055</td>\n",
       "      <td>1.457789</td>\n",
       "      <td>3.518164</td>\n",
       "      <td>1.373622</td>\n",
       "      <td>1.390126</td>\n",
       "      <td>1.443737</td>\n",
       "      <td>1.25245</td>\n",
       "      <td>0.006136</td>\n",
       "    </tr>\n",
       "    <tr>\n",
       "      <th>633758</th>\n",
       "      <td>830939</td>\n",
       "      <td>2012-01-31</td>\n",
       "      <td>441310.0</td>\n",
       "      <td>True</td>\n",
       "      <td>1.975557</td>\n",
       "      <td>-0.556678</td>\n",
       "      <td>0.244285</td>\n",
       "      <td>0.847346</td>\n",
       "      <td>0.002794</td>\n",
       "      <td>1.294558</td>\n",
       "      <td>1.258266</td>\n",
       "      <td>1.296445</td>\n",
       "      <td>0.459906</td>\n",
       "      <td>0.988967</td>\n",
       "      <td>3.537966</td>\n",
       "      <td>3.462281</td>\n",
       "      <td>1.457309</td>\n",
       "      <td>3.765021</td>\n",
       "      <td>3.678037</td>\n",
       "      <td>3.683163</td>\n",
       "      <td>3.651025</td>\n",
       "      <td>2.450809</td>\n",
       "      <td>1.671021</td>\n",
       "      <td>1.605765</td>\n",
       "      <td>2.692965</td>\n",
       "      <td>1.619145</td>\n",
       "      <td>1.458472</td>\n",
       "      <td>1.161136</td>\n",
       "      <td>0.997018</td>\n",
       "      <td>1.132393</td>\n",
       "      <td>3.054739</td>\n",
       "      <td>1.387085</td>\n",
       "      <td>3.083962</td>\n",
       "      <td>2.254734</td>\n",
       "      <td>1.10055</td>\n",
       "      <td>1.457789</td>\n",
       "      <td>3.518164</td>\n",
       "      <td>1.373622</td>\n",
       "      <td>1.390126</td>\n",
       "      <td>1.443737</td>\n",
       "      <td>1.25245</td>\n",
       "      <td>0.006136</td>\n",
       "    </tr>\n",
       "    <tr>\n",
       "      <th>638108</th>\n",
       "      <td>881983</td>\n",
       "      <td>2012-01-31</td>\n",
       "      <td>238910.0</td>\n",
       "      <td>True</td>\n",
       "      <td>0.868297</td>\n",
       "      <td>-0.556678</td>\n",
       "      <td>-0.736319</td>\n",
       "      <td>-2.069011</td>\n",
       "      <td>0.002794</td>\n",
       "      <td>1.294558</td>\n",
       "      <td>1.258266</td>\n",
       "      <td>1.296445</td>\n",
       "      <td>0.459906</td>\n",
       "      <td>0.988967</td>\n",
       "      <td>3.537966</td>\n",
       "      <td>3.462281</td>\n",
       "      <td>1.457309</td>\n",
       "      <td>3.765021</td>\n",
       "      <td>3.678037</td>\n",
       "      <td>3.683163</td>\n",
       "      <td>3.651025</td>\n",
       "      <td>2.450809</td>\n",
       "      <td>1.671021</td>\n",
       "      <td>1.605765</td>\n",
       "      <td>2.692965</td>\n",
       "      <td>1.619145</td>\n",
       "      <td>1.458472</td>\n",
       "      <td>1.161136</td>\n",
       "      <td>0.997018</td>\n",
       "      <td>1.132393</td>\n",
       "      <td>3.054739</td>\n",
       "      <td>1.387085</td>\n",
       "      <td>3.083962</td>\n",
       "      <td>2.254734</td>\n",
       "      <td>1.10055</td>\n",
       "      <td>1.457789</td>\n",
       "      <td>3.518164</td>\n",
       "      <td>1.373622</td>\n",
       "      <td>1.390126</td>\n",
       "      <td>1.443737</td>\n",
       "      <td>1.25245</td>\n",
       "      <td>0.006136</td>\n",
       "    </tr>\n",
       "    <tr>\n",
       "      <th>640806</th>\n",
       "      <td>392527</td>\n",
       "      <td>2012-01-31</td>\n",
       "      <td>531190.0</td>\n",
       "      <td>True</td>\n",
       "      <td>1.975557</td>\n",
       "      <td>-0.556678</td>\n",
       "      <td>0.230360</td>\n",
       "      <td>0.046759</td>\n",
       "      <td>0.002794</td>\n",
       "      <td>1.294558</td>\n",
       "      <td>1.258266</td>\n",
       "      <td>1.296445</td>\n",
       "      <td>0.459906</td>\n",
       "      <td>0.988967</td>\n",
       "      <td>3.537966</td>\n",
       "      <td>3.462281</td>\n",
       "      <td>1.457309</td>\n",
       "      <td>3.765021</td>\n",
       "      <td>3.678037</td>\n",
       "      <td>3.683163</td>\n",
       "      <td>3.651025</td>\n",
       "      <td>2.450809</td>\n",
       "      <td>1.671021</td>\n",
       "      <td>1.605765</td>\n",
       "      <td>2.692965</td>\n",
       "      <td>1.619145</td>\n",
       "      <td>1.458472</td>\n",
       "      <td>1.161136</td>\n",
       "      <td>0.997018</td>\n",
       "      <td>1.132393</td>\n",
       "      <td>3.054739</td>\n",
       "      <td>1.387085</td>\n",
       "      <td>3.083962</td>\n",
       "      <td>2.254734</td>\n",
       "      <td>1.10055</td>\n",
       "      <td>1.457789</td>\n",
       "      <td>3.518164</td>\n",
       "      <td>1.373622</td>\n",
       "      <td>1.390126</td>\n",
       "      <td>1.443737</td>\n",
       "      <td>1.25245</td>\n",
       "      <td>0.006136</td>\n",
       "    </tr>\n",
       "    <tr>\n",
       "      <th>639218</th>\n",
       "      <td>414277</td>\n",
       "      <td>2012-01-31</td>\n",
       "      <td>112991.0</td>\n",
       "      <td>True</td>\n",
       "      <td>-0.393313</td>\n",
       "      <td>-0.556678</td>\n",
       "      <td>-0.241443</td>\n",
       "      <td>0.046746</td>\n",
       "      <td>0.002794</td>\n",
       "      <td>1.294558</td>\n",
       "      <td>1.258266</td>\n",
       "      <td>1.296445</td>\n",
       "      <td>0.459906</td>\n",
       "      <td>0.988967</td>\n",
       "      <td>3.537966</td>\n",
       "      <td>3.462281</td>\n",
       "      <td>1.457309</td>\n",
       "      <td>3.765021</td>\n",
       "      <td>3.678037</td>\n",
       "      <td>3.683163</td>\n",
       "      <td>3.651025</td>\n",
       "      <td>2.450809</td>\n",
       "      <td>1.671021</td>\n",
       "      <td>1.605765</td>\n",
       "      <td>2.692965</td>\n",
       "      <td>1.619145</td>\n",
       "      <td>1.458472</td>\n",
       "      <td>1.161136</td>\n",
       "      <td>0.997018</td>\n",
       "      <td>1.132393</td>\n",
       "      <td>3.054739</td>\n",
       "      <td>1.387085</td>\n",
       "      <td>3.083962</td>\n",
       "      <td>2.254734</td>\n",
       "      <td>1.10055</td>\n",
       "      <td>1.457789</td>\n",
       "      <td>3.518164</td>\n",
       "      <td>1.373622</td>\n",
       "      <td>1.390126</td>\n",
       "      <td>1.443737</td>\n",
       "      <td>1.25245</td>\n",
       "      <td>0.006136</td>\n",
       "    </tr>\n",
       "  </tbody>\n",
       "</table>\n",
       "</div>"
      ],
      "text/plain": [
       "         bus_ptnr_group    cal_day  naics_id  has_loan       BRR  impaired  Oustanding_principle_on_posting_date  percentage_rate  transactions  abs_transactions  transactions_db  transactions_cr  n_transactions  SUB_SYSTEM_DP  SUB_SYSTEM_FD  SUB_SYSTEM_IN  SUB_SYSTEM_LN  SUB_SYSTEM_RF  SUB_SYSTEM_RP  SUB_SYSTEM_SP  SUB_SYSTEM_TF  transaction_type_Loan_Disbursement  transaction_type_Payment_Distrib_Loan  transaction_type_Loan_Payment  transaction_type_Bank_Trsf_Deposit_Acct  transaction_type_Installment_Payment  transaction_type_Transfer  transaction_type_Direct_Deposit  transaction_type_Cheque  transaction_type_Deposit_Cheque  transaction_type_Incoming_Wire  transaction_type_Auto_LOC_Repayment  transaction_type_Outgoing_Wire  transaction_type_EFT_Settlement  transaction_type_Direct_Debit  transaction_type_Overdraft_Transfer  transaction_type_Customer_Transfer  transaction_type_LOC_Disburse_RealTime_Adv  transaction_type_Loan_Transfer  transaction_type_EOD_ODP_Trf_Funded_Acc  transaction_type_misc  mth_since_brr_update\n",
       "1327691          315757 2012-01-31  111190.0      True  0.868297 -0.556678                              0.457500         0.334439      0.002794          1.294558         1.258266         1.296445        0.459906       0.988967       3.537966       3.462281       1.457309       3.765021       3.678037       3.683163       3.651025                            2.450809                               1.671021                       1.605765                                 2.692965                              1.619145                   1.458472                         1.161136                 0.997018                         1.132393                        3.054739                             1.387085                        3.083962                         2.254734                        1.10055                             1.457789                            3.518164                                    1.373622                        1.390126                                 1.443737                1.25245              0.006136\n",
       "633758           830939 2012-01-31  441310.0      True  1.975557 -0.556678                              0.244285         0.847346      0.002794          1.294558         1.258266         1.296445        0.459906       0.988967       3.537966       3.462281       1.457309       3.765021       3.678037       3.683163       3.651025                            2.450809                               1.671021                       1.605765                                 2.692965                              1.619145                   1.458472                         1.161136                 0.997018                         1.132393                        3.054739                             1.387085                        3.083962                         2.254734                        1.10055                             1.457789                            3.518164                                    1.373622                        1.390126                                 1.443737                1.25245              0.006136\n",
       "638108           881983 2012-01-31  238910.0      True  0.868297 -0.556678                             -0.736319        -2.069011      0.002794          1.294558         1.258266         1.296445        0.459906       0.988967       3.537966       3.462281       1.457309       3.765021       3.678037       3.683163       3.651025                            2.450809                               1.671021                       1.605765                                 2.692965                              1.619145                   1.458472                         1.161136                 0.997018                         1.132393                        3.054739                             1.387085                        3.083962                         2.254734                        1.10055                             1.457789                            3.518164                                    1.373622                        1.390126                                 1.443737                1.25245              0.006136\n",
       "640806           392527 2012-01-31  531190.0      True  1.975557 -0.556678                              0.230360         0.046759      0.002794          1.294558         1.258266         1.296445        0.459906       0.988967       3.537966       3.462281       1.457309       3.765021       3.678037       3.683163       3.651025                            2.450809                               1.671021                       1.605765                                 2.692965                              1.619145                   1.458472                         1.161136                 0.997018                         1.132393                        3.054739                             1.387085                        3.083962                         2.254734                        1.10055                             1.457789                            3.518164                                    1.373622                        1.390126                                 1.443737                1.25245              0.006136\n",
       "639218           414277 2012-01-31  112991.0      True -0.393313 -0.556678                             -0.241443         0.046746      0.002794          1.294558         1.258266         1.296445        0.459906       0.988967       3.537966       3.462281       1.457309       3.765021       3.678037       3.683163       3.651025                            2.450809                               1.671021                       1.605765                                 2.692965                              1.619145                   1.458472                         1.161136                 0.997018                         1.132393                        3.054739                             1.387085                        3.083962                         2.254734                        1.10055                             1.457789                            3.518164                                    1.373622                        1.390126                                 1.443737                1.25245              0.006136"
      ]
     },
     "execution_count": 48,
     "metadata": {},
     "output_type": "execute_result"
    }
   ],
   "source": [
    "data = data[data['has_loan'] == 1].copy()\n",
    "data.sort_values('cal_day').head()"
   ]
  },
  {
   "cell_type": "code",
   "execution_count": 10,
   "id": "dc157e32",
   "metadata": {},
   "outputs": [],
   "source": [
    "data = data.drop('has_loan', axis=1).copy()"
   ]
  },
  {
   "cell_type": "code",
   "execution_count": 11,
   "id": "08785fc8",
   "metadata": {},
   "outputs": [
    {
     "data": {
      "text/plain": [
       "38"
      ]
     },
     "execution_count": 11,
     "metadata": {},
     "output_type": "execute_result"
    }
   ],
   "source": [
    "other_cols = [\n",
    "    'bus_ptnr_group',\n",
    "     'cal_day',\n",
    "     'naics_id'\n",
    "]\n",
    "\n",
    "used_cols = data.columns.difference(other_cols).to_list()\n",
    "len(used_cols)"
   ]
  },
  {
   "cell_type": "code",
   "execution_count": 12,
   "id": "41ed2e42",
   "metadata": {},
   "outputs": [],
   "source": [
    "ppl_pca = Pipeline(steps=[\n",
    "    ('masking', SimpleImputer(strategy='constant', fill_value=0.0))\n",
    "])\n",
    "\n",
    "transformer_pca = ColumnTransformer(transformers=[\n",
    "    ('numeric', ppl_pca, used_cols)\n",
    "])\n",
    "\n",
    "\n",
    "data[used_cols] = transformer_pca.fit_transform(data)"
   ]
  },
  {
   "cell_type": "markdown",
   "id": "4de421d1",
   "metadata": {
    "toc-hr-collapsed": true,
    "toc-nb-collapsed": true
   },
   "source": [
    "### Performance of PCA"
   ]
  },
  {
   "cell_type": "code",
   "execution_count": 19,
   "id": "112f6b24",
   "metadata": {},
   "outputs": [],
   "source": [
    "full_pca = PCA(n_components=38, svd_solver='randomized', iterated_power='auto', random_state=3024)\n",
    "full_pca.fit(data[used_cols].to_numpy())\n",
    "# sg_vectors = full_pca.components_\n",
    "full_expl_var = full_pca.explained_variance_"
   ]
  },
  {
   "cell_type": "code",
   "execution_count": 20,
   "id": "00788e3c",
   "metadata": {},
   "outputs": [
    {
     "data": {
      "image/png": "[encoded data removed]",
      "text/plain": [
       "<Figure size 640x480 with 1 Axes>"
      ]
     },
     "metadata": {},
     "output_type": "display_data"
    }
   ],
   "source": [
    "sns.set(style='darkgrid')\n",
    "\n",
    "expl_vars = np.cumsum(full_expl_var)\n",
    "expl_var_ratios = expl_vars / expl_vars[-1]\n",
    "\n",
    "fig, ax = plt.subplots(1)\n",
    "ax.plot(np.arange(1,39), expl_var_ratios)\n",
    "ax.set_title('Performance of PCA')\n",
    "ax.set_xlabel('number of components')\n",
    "ax.set_ylabel('explained variance ratio')\n",
    "plt.show()"
   ]
  },
  {
   "cell_type": "markdown",
   "id": "a0d17c6a",
   "metadata": {},
   "source": [
    "### "
   ]
  },
  {
   "cell_type": "code",
   "execution_count": 14,
   "id": "ca6d1bd2",
   "metadata": {},
   "outputs": [
    {
     "name": "stdout",
     "output_type": "stream",
     "text": [
      "explained variance ratio is 1.00\n"
     ]
    }
   ],
   "source": [
    "pca = PCA(n_components=35, svd_solver='randomized', iterated_power='auto', random_state=3024)\n",
    "pca.fit(data[used_cols].to_numpy())\n",
    "\n",
    "print(f\"explained variance ratio is {sum(pca.explained_variance_ratio_):.2f}\")"
   ]
  },
  {
   "cell_type": "code",
   "execution_count": 15,
   "id": "23514b42",
   "metadata": {},
   "outputs": [],
   "source": [
    "reduced_data = pca.transform(data[used_cols].to_numpy())"
   ]
  },
  {
   "cell_type": "code",
   "execution_count": 16,
   "id": "b0703cf7",
   "metadata": {},
   "outputs": [],
   "source": [
    "np.save('reduced_data.npy', reduced_data)"
   ]
  },
  {
   "cell_type": "markdown",
   "id": "224a7c1a",
   "metadata": {},
   "source": [
    "## KMeans"
   ]
  },
  {
   "cell_type": "code",
   "execution_count": 2,
   "id": "b93b560a",
   "metadata": {},
   "outputs": [],
   "source": [
    "reduced_data = np.load('reduced_data.npy')"
   ]
  },
  {
   "cell_type": "code",
   "execution_count": 18,
   "id": "0e35c9b0",
   "metadata": {},
   "outputs": [
    {
     "name": "stdout",
     "output_type": "stream",
     "text": [
      "CPU times: user 3min 39s, sys: 55.1 s, total: 4min 34s\n",
      "Wall time: 50.5 s\n"
     ]
    },
    {
     "data": {
      "text/plain": [
       "KMeans(n_clusters=10, random_state=3024)"
      ]
     },
     "execution_count": 18,
     "metadata": {},
     "output_type": "execute_result"
    }
   ],
   "source": [
    "%%time\n",
    "\n",
    "kmeans = KMeans(n_clusters=10, random_state=3024)\n",
    "kmeans.fit(reduced_data)"
   ]
  },
  {
   "cell_type": "code",
   "execution_count": 19,
   "id": "8affeebd",
   "metadata": {},
   "outputs": [
    {
     "name": "stdout",
     "output_type": "stream",
     "text": [
      "inertia is 2.323E+07\n"
     ]
    }
   ],
   "source": [
    "print(f\"inertia is {kmeans.inertia_:.3E}\")"
   ]
  },
  {
   "cell_type": "code",
   "execution_count": 3,
   "id": "0e4e25b9",
   "metadata": {},
   "outputs": [],
   "source": [
    "kmeans = KMeans(n_clusters=10)\n",
    "kmeans.fit(reduced_data)\n",
    "labels_pred = kmeans.labels_"
   ]
  },
  {
   "cell_type": "code",
   "execution_count": null,
   "id": "84862baf",
   "metadata": {},
   "outputs": [],
   "source": [
    "score = silhouette_score(reduced_data, labels_pred, metric='euclidean')\n",
    "print(f\"Silhouette Coefficient is {score:.3}\")"
   ]
  },
  {
   "cell_type": "code",
   "execution_count": 42,
   "id": "b9587fdc",
   "metadata": {},
   "outputs": [
    {
     "name": "stdout",
     "output_type": "stream",
     "text": [
      "Calinski-Harabasz Index is 1.981E+05\n"
     ]
    }
   ],
   "source": [
    "score = calinski_harabasz_score(reduced_data, labels_pred)\n",
    "print(f\"Calinski-Harabasz Index is {score:.3E}\")"
   ]
  },
  {
   "cell_type": "code",
   "execution_count": 4,
   "id": "5a1f2f7b",
   "metadata": {},
   "outputs": [
    {
     "name": "stdout",
     "output_type": "stream",
     "text": [
      "Davies-Bouldin Index is 1.54\n"
     ]
    }
   ],
   "source": [
    "score = davies_bouldin_score(reduced_data, labels_pred)\n",
    "print(f\"Davies-Bouldin Index is {score:.3}\")"
   ]
  },
  {
   "cell_type": "code",
   "execution_count": 22,
   "id": "8c2f032e",
   "metadata": {},
   "outputs": [
    {
     "name": "stdout",
     "output_type": "stream",
     "text": [
      "0.8127953833674624\n"
     ]
    }
   ],
   "source": [
    "# Refit KMeans with random initialization\n",
    "scores = []\n",
    "\n",
    "for i in range(10):\n",
    "    kmeans.fit(reduced_data)\n",
    "    scores.append(adjusted_mutual_info_score(labels_pred, kmeans.labels_))\n",
    "    labels_pred = kmeans.labels_\n",
    "\n",
    "print(np.mean(scores))"
   ]
  },
  {
   "cell_type": "code",
   "execution_count": 5,
   "id": "ab20744a",
   "metadata": {},
   "outputs": [],
   "source": [
    "labels_pred = kmeans.labels_\n",
    "centroids = kmeans.cluster_centers_"
   ]
  },
  {
   "cell_type": "code",
   "execution_count": 6,
   "id": "e7829e26",
   "metadata": {},
   "outputs": [
    {
     "name": "stdout",
     "output_type": "stream",
     "text": [
      "0.9996242192639647\n"
     ]
    }
   ],
   "source": [
    "# Refit KMeans with previous cluster centroids\n",
    "scores = []\n",
    "\n",
    "for i in range(10):\n",
    "    kmeans_ini = KMeans(n_clusters=10, init=centroids, n_init=1)\n",
    "    kmeans_ini.fit(reduced_data)\n",
    "    scores.append(adjusted_mutual_info_score(labels_pred, kmeans_ini.labels_))\n",
    "    labels_pred = kmeans_ini.labels_\n",
    "    centroids = kmeans_ini.cluster_centers_\n",
    "    \n",
    "print(np.mean(scores))"
   ]
  },
  {
   "cell_type": "markdown",
   "id": "780a83d2",
   "metadata": {},
   "source": [
    "## Mini-Batch KMeans"
   ]
  },
  {
   "cell_type": "code",
   "execution_count": 28,
   "id": "dd120baa",
   "metadata": {},
   "outputs": [
    {
     "name": "stdout",
     "output_type": "stream",
     "text": [
      "CPU times: user 2.65 s, sys: 1.01 s, total: 3.66 s\n",
      "Wall time: 1.11 s\n"
     ]
    },
    {
     "data": {
      "text/plain": [
       "MiniBatchKMeans(batch_size=512, n_clusters=10, random_state=3024)"
      ]
     },
     "execution_count": 28,
     "metadata": {},
     "output_type": "execute_result"
    }
   ],
   "source": [
    "%%time\n",
    "\n",
    "seq_kmeans = MiniBatchKMeans(n_clusters=10, batch_size=512, random_state=3024)\n",
    "seq_kmeans.fit(reduced_data)"
   ]
  },
  {
   "cell_type": "code",
   "execution_count": 29,
   "id": "d94e094d",
   "metadata": {},
   "outputs": [
    {
     "name": "stdout",
     "output_type": "stream",
     "text": [
      "inertia is 2.359E+07\n"
     ]
    }
   ],
   "source": [
    "print(f\"inertia is {seq_kmeans.inertia_:.3E}\")"
   ]
  },
  {
   "cell_type": "code",
   "execution_count": 34,
   "id": "df961af4",
   "metadata": {},
   "outputs": [],
   "source": [
    "seq_kmeans = MiniBatchKMeans(n_clusters=10, batch_size=512)\n",
    "seq_kmeans.fit(reduced_data)\n",
    "labels_pred = seq_kmeans.labels_"
   ]
  },
  {
   "cell_type": "code",
   "execution_count": null,
   "id": "b56cd4bd",
   "metadata": {},
   "outputs": [],
   "source": [
    "score = silhouette_score(reduced_data, labels_pred, metric='euclidean')\n",
    "print(f\"Silhouette Coefficient is {score:.3}\")"
   ]
  },
  {
   "cell_type": "code",
   "execution_count": 40,
   "id": "81a212e2",
   "metadata": {},
   "outputs": [
    {
     "name": "stdout",
     "output_type": "stream",
     "text": [
      "Calinski-Harabasz Index is 1.883E+05\n"
     ]
    }
   ],
   "source": [
    "score = calinski_harabasz_score(reduced_data, labels_pred)\n",
    "print(f\"Calinski-Harabasz Index is {score:.3E}\")"
   ]
  },
  {
   "cell_type": "code",
   "execution_count": 38,
   "id": "fd964346",
   "metadata": {},
   "outputs": [
    {
     "name": "stdout",
     "output_type": "stream",
     "text": [
      "Davies-Bouldin Index is 1.69\n"
     ]
    }
   ],
   "source": [
    "score = davies_bouldin_score(reduced_data, labels_pred)\n",
    "print(f\"Davies-Bouldin Index is {score:.3}\")"
   ]
  },
  {
   "cell_type": "code",
   "execution_count": 32,
   "id": "5023a8c1",
   "metadata": {},
   "outputs": [
    {
     "name": "stdout",
     "output_type": "stream",
     "text": [
      "0.674116672927392\n"
     ]
    }
   ],
   "source": [
    "# Refit KMeans with random initialization\n",
    "scores = []\n",
    "\n",
    "for i in range(10):\n",
    "    seq_kmeans.fit(reduced_data)\n",
    "    scores.append(adjusted_mutual_info_score(labels_pred, seq_kmeans.labels_))\n",
    "    labels_pred = seq_kmeans.labels_\n",
    "\n",
    "print(np.mean(scores))"
   ]
  },
  {
   "cell_type": "code",
   "execution_count": 33,
   "id": "e9439a99",
   "metadata": {},
   "outputs": [
    {
     "name": "stdout",
     "output_type": "stream",
     "text": [
      "0.9725039516519957\n"
     ]
    }
   ],
   "source": [
    "# using partial fit instead\n",
    "scores = []\n",
    "\n",
    "for i in range(10):\n",
    "    seq_kmeans.partial_fit(reduced_data)\n",
    "    scores.append(adjusted_mutual_info_score(labels_pred, seq_kmeans.labels_))\n",
    "    labels_pred = seq_kmeans.labels_\n",
    "\n",
    "print(np.mean(scores))"
   ]
  },
  {
   "cell_type": "code",
   "execution_count": null,
   "id": "97d5d47a",
   "metadata": {},
   "outputs": [],
   "source": []
  }
 ],
 "metadata": {
  "kernelspec": {
   "display_name": "kmeans_pca",
   "language": "python",
   "name": "kmeans_pca"
  },
  "language_info": {
   "codemirror_mode": {
    "name": "ipython",
    "version": 3
   },
   "file_extension": ".py",
   "mimetype": "text/x-python",
   "name": "python",
   "nbconvert_exporter": "python",
   "pygments_lexer": "ipython3",
   "version": "3.7.10"
  },
  "toc-autonumbering": false,
  "toc-showcode": false,
  "toc-showtags": false
 },
 "nbformat": 4,
 "nbformat_minor": 5
}
